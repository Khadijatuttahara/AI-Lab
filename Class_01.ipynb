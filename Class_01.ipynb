{
  "nbformat": 4,
  "nbformat_minor": 0,
  "metadata": {
    "colab": {
      "name": "Class 01",
      "provenance": [],
      "authorship_tag": "ABX9TyMKirt6BSLgwgAOq2My3kr/",
      "include_colab_link": true
    },
    "kernelspec": {
      "name": "python3",
      "display_name": "Python 3"
    }
  },
  "cells": [
    {
      "cell_type": "markdown",
      "metadata": {
        "id": "view-in-github",
        "colab_type": "text"
      },
      "source": [
        "<a href=\"https://colab.research.google.com/github/Khadijatuttahara/AI-Lab/blob/main/Class_01.ipynb\" target=\"_parent\"><img src=\"https://colab.research.google.com/assets/colab-badge.svg\" alt=\"Open In Colab\"/></a>"
      ]
    },
    {
      "cell_type": "code",
      "metadata": {
        "colab": {
          "base_uri": "https://localhost:8080/"
        },
        "id": "1XpR_lvIcdw8",
        "outputId": "579258a9-0735-47bf-9d15-c70e0fb61524"
      },
      "source": [
        "#Grade checker using python  :\r\n",
        "mark=int(input(\"Enter your mark:\"))\r\n",
        "if mark >= 80 and mark <= 100 :\r\n",
        "    print(\"Your grade is A+!\")\r\n",
        "elif mark >= 70 and mark < 80 :\r\n",
        "    print(\"Your grade is A!\")\r\n",
        "elif mark >=60 and mark < 70 :\r\n",
        "    print(\"Your grade is A-\")\r\n",
        "elif mark >=50 and mark < 60 :\r\n",
        "    print(\"Your grade is B!\")\r\n",
        "elif mark >=40 and mark < 50 :\r\n",
        "    print(\"Your grade is C!\")\r\n",
        "elif mark >=33 and mark < 40 :\r\n",
        "    print(\"Your grade is D!\")\r\n",
        "elif mark >=0 and mark < 30 :\r\n",
        "    print(\"Your grade is F!\")\r\n",
        "else :\r\n",
        "    print(\" You entered wrong input.Please try again!\")"
      ],
      "execution_count": 1,
      "outputs": [
        {
          "output_type": "stream",
          "text": [
            "Enter your mark:70\n",
            "Your grade is A!\n"
          ],
          "name": "stdout"
        }
      ]
    },
    {
      "cell_type": "code",
      "metadata": {
        "colab": {
          "base_uri": "https://localhost:8080/"
        },
        "id": "qDUxeegcczZQ",
        "outputId": "b4bbd80c-fa7a-4085-c250-1fbd3fb0f508"
      },
      "source": [
        "#Find maximum number from 3 integer using python:\r\n",
        "num1 = float(input(\"Enter 1st number: \"))\r\n",
        "num2 = float(input(\"Enter 2nd number: \"))\r\n",
        "num3 = float(input(\"Enter 3rd number: \"))\r\n",
        "\r\n",
        "if (num1 >= num2) and (num1 >= num3):\r\n",
        "   lnum = num1\r\n",
        "elif (num2 >= num1) and (num2 >= num3):\r\n",
        "   lnum = num2\r\n",
        "else:\r\n",
        "   lnum = num3\r\n",
        "\r\n",
        "print(\"The largest number among\",num1,\",\",num2,\"and\",num3,\"is: \",lnum)"
      ],
      "execution_count": 2,
      "outputs": [
        {
          "output_type": "stream",
          "text": [
            "Enter 1st number: 2\n",
            "Enter 2nd number: 4\n",
            "Enter 3rd number: 5\n",
            "The largest number among 2.0 , 4.0 and 5.0 is:  5.0\n"
          ],
          "name": "stdout"
        }
      ]
    },
    {
      "cell_type": "code",
      "metadata": {
        "colab": {
          "base_uri": "https://localhost:8080/"
        },
        "id": "vZ1MG4mPc32K",
        "outputId": "486e38db-35bf-4b68-9d66-806dfc084b6e"
      },
      "source": [
        "#python simple calculator using function:\r\n",
        "def add():\r\n",
        "\ta=float(input(\"Enter 1st number:\"))\r\n",
        "\tb=float(input(\"Enter 2nd number:\"))\r\n",
        "\tprint(\"Sum=\",a+b)\r\n",
        "def sab():\r\n",
        "\ta=float(input(\"Enter 1st number:\"))\r\n",
        "\tb=float(input(\"Enter 2nd number:\"))\r\n",
        "\tprint(\"Sabstraction=\",a-b)\r\n",
        "def mul():\r\n",
        "\ta=float(input(\"Enter 1st number:\"))\r\n",
        "\tb=float(input(\"Enter 2nd number\"))\r\n",
        "\tprint(\"Multiplication=\",a*b)\r\n",
        "def div():\r\n",
        "\ta=float(input(\"Enter 1st number:\"))\r\n",
        "\tb=float(input(\"Enter 2nd number:\"))\r\n",
        "\tprint(\"Division=\",a/b)\r\n",
        "\r\n",
        "def work():\r\n",
        "\tw=int(input(\"Press 5:\"))\r\n",
        "\tif w==5:\r\n",
        "\t\tmanu()\r\n",
        "def menu():\r\n",
        "\tprint(\"1.Addition\")\r\n",
        "\tprint(\"2.Sabstraction\")\r\n",
        "\tprint(\"3.Multiplication\")\r\n",
        "\tprint(\"4.Division\")\r\n",
        "\tn=int(input(\"Enter a option:\"))\r\n",
        "\tif n==1:\r\n",
        "\t\tadd()\r\n",
        "\telif n==2:\r\n",
        "\t  \tsab()\r\n",
        "\telif n==3:\r\n",
        "  \t\tmul()\r\n",
        "\telif n==4:\r\n",
        "\t  \tdiv()\r\n",
        "\telse:\r\n",
        "\t\tprint(\"You entered wron input!Try again!\")\r\n",
        "\t\tmenu()\r\n",
        "menu()"
      ],
      "execution_count": 3,
      "outputs": [
        {
          "output_type": "stream",
          "text": [
            "1.Addition\n",
            "2.Sabstraction\n",
            "3.Multiplication\n",
            "4.Division\n",
            "Enter a option:1\n",
            "Enter 1st number:20\n",
            "Enter 2nd number:10\n",
            "Sum= 30.0\n"
          ],
          "name": "stdout"
        }
      ]
    }
  ]
}